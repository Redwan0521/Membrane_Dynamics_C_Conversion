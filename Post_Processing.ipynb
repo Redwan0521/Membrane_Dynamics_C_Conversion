{
 "cells": [
  {
   "cell_type": "code",
   "execution_count": null,
   "id": "b6ca7a8f",
   "metadata": {},
   "outputs": [],
   "source": [
    "import igl\n",
    "import math\n",
    "import scipy as sp\n",
    "import numpy as np\n",
    "import meshplot as mp\n",
    "import pandas as pd\n",
    "import matplotlib.pyplot as plt\n",
    "import numba\n",
    "import os\n",
    "root_folder = os.getcwd()"
   ]
  },
  {
   "cell_type": "code",
   "execution_count": null,
   "id": "b1f2b506",
   "metadata": {},
   "outputs": [],
   "source": [
    "v, f = igl.read_triangle_mesh(os.path.join(root_folder, \"restart_nonbiased_Kv=0.off\"))### Read The Final Mesh Here\n",
    "\n",
    "v_init, f = igl.read_triangle_mesh(os.path.join(root_folder, \"equilibrated.off\") ) ### Read The Initial Mesh Here                         "
   ]
  },
  {
   "cell_type": "code",
   "execution_count": null,
   "id": "d345c170",
   "metadata": {
    "scrolled": true
   },
   "outputs": [],
   "source": [
    "p=mp.plot(v,f,shading={\"wireframe\":True, \"wire_color\": \"black\", #Wireframerendering   \n",
    "                               \"width\": 300, \"height\": 300},return_plot=True) ###Viewing The Mesh"
   ]
  },
  {
   "cell_type": "code",
   "execution_count": null,
   "id": "c774a8e9",
   "metadata": {
    "scrolled": true
   },
   "outputs": [],
   "source": [
    "#Mesh with particl\n",
    "rp=0.15\n",
    "rho=0.1*rp\n",
    "x=np.amax(v_init[:,0])+rp+1*rho\n",
    "y=0\n",
    "z=0\n",
    "fig = plt.figure(figsize =(14, 8))\n",
    "ax = plt.axes(projection ='3d')\n",
    "surf=ax.plot_trisurf(v[:,0], v[:,1], v[:,2], triangles = f, edgecolor=[[0,0,0]], linewidth=0.3, alpha=0.0, shade=False)\n",
    "u, v1 = np.mgrid[0:2 * np.pi:30j, 0:np.pi:20j]\n",
    "x1 = (rp*(np.cos(u) * np.sin(v1)))+x\n",
    "y1 = (rp*(np.sin(u) * np.sin(v1)))\n",
    "z1 = (rp*(np.cos(v1)))\n",
    "surf=ax.plot_surface(x1, y1, z1)\n",
    "ax.view_init(90,180)\n",
    "ax = plt.gca()\n",
    "ax.set_xlim([-1, 1.5])\n",
    "ax.set_ylim([-1, 1])\n",
    "ax.set_zlim([-1, 1])\n",
    "xmin, xmax = ax.get_xlim()\n",
    "ymin, ymax = ax.get_ylim()\n",
    "ax.set_proj_type('ortho')\n",
    "ax.set_box_aspect((xmax-xmin, ymax-ymin,ymax-ymin))\n",
    "ax.set_zticks([])"
   ]
  },
  {
   "cell_type": "code",
   "execution_count": null,
   "id": "7953a287",
   "metadata": {},
   "outputs": [],
   "source": [
    "def cal_volumetot(v,f):\n",
    "    Volumetot = 0\n",
    "    for i in range(len(f)):\n",
    "        sum=0\n",
    "        p0x=v[f[i][0]][0]\n",
    "        p0y=v[f[i][0]][1]\n",
    "        p0z=v[f[i][0]][2]\n",
    "        p1x=v[f[i][1]][0]\n",
    "        p1y=v[f[i][1]][1]\n",
    "        p1z=v[f[i][1]][2]\n",
    "        p2x=v[f[i][2]][0]\n",
    "        p2y=v[f[i][2]][1]\n",
    "        p2z=v[f[i][2]][2]\n",
    "        v321= p2x*p1y*p0z\n",
    "        v231= p1x*p2y*p0z\n",
    "        v312= p2x*p0y*p1z\n",
    "        v132= p0x*p2y*p1z\n",
    "        v213= p1x*p0y*p2z\n",
    "        v123= p0x*p1y*p2z\n",
    "        sum=(-v321+ v231+ v312-v132-v213+ v123) / 6.0\n",
    "        #print(sum)\n",
    "        Volumetot+=sum\n",
    "    return Volumetot\n"
   ]
  },
  {
   "cell_type": "code",
   "execution_count": null,
   "id": "d98b82c6",
   "metadata": {},
   "outputs": [],
   "source": [
    "### To chech the initial and final volume\n",
    "Volume_Final= cal_volumetot(v,f)\n",
    "Volume_new=cal_volumetot(v_init,f1)\n",
    "print(Volume_new)\n",
    "Volume_Final/Volume_new"
   ]
  },
  {
   "cell_type": "code",
   "execution_count": null,
   "id": "d4ad6933",
   "metadata": {},
   "outputs": [],
   "source": [
    "Kb=0.01\n",
    "H0=0\n",
    "def Force_Bending(v,f):\n",
    "    npv = igl.per_vertex_normals(v, f)\n",
    "    K = igl.gaussian_curvature(v, f)\n",
    "    m = igl.massmatrix(v, f, igl.MASSMATRIX_TYPE_VORONOI)\n",
    "    minv = sp.sparse.diags(1 / m.diagonal())\n",
    "    area_voronoi=m.diagonal()\n",
    "    l = igl.cotmatrix(v, f) ###laplacian-operator\n",
    "    Hn = -minv.dot(l.dot(v))/2\n",
    "    H_mean = np.linalg.norm(Hn, axis=1)\n",
    "    sign_H = np.sign(np.sum(Hn*npv, axis=1))\n",
    "    H_mean_signed = H_mean*sign_H\n",
    "    Lap_H = minv.dot(l.dot(H_mean_signed-H0))\n",
    "    kn = minv.dot(K)\n",
    "    first_term = 2*(H_mean_signed-H0)*(H_mean_signed**2 + H0*H_mean_signed -kn)\n",
    "    totalforce = first_term + Lap_H\n",
    "    Force_bending = 2*Kb*npv*totalforce[:,None]*area_voronoi[:,None]\n",
    "\n",
    "    Eb = 2*Kb*(((H_mean_signed-H0)**2))*area_voronoi\n",
    "    total_EB = np.sum(Eb)\n",
    "        \n",
    "    return Force_bending,total_EB"
   ]
  },
  {
   "cell_type": "code",
   "execution_count": null,
   "id": "148d9557",
   "metadata": {},
   "outputs": [],
   "source": [
    "### To check the bending energy of the vesicle\n",
    "force,energy=Force_Bending(v,f)\n",
    "energy"
   ]
  },
  {
   "cell_type": "code",
   "execution_count": null,
   "id": "97bcd84d",
   "metadata": {},
   "outputs": [],
   "source": [
    "# with open('logfile_1.txt','r') as f: ###Give the file name here\n",
    "#     Energy1=[]\n",
    "#     string='Total Energy' ### Name it as the which energy term you want \n",
    "#     for line in f:\n",
    "#         if string in line:\n",
    "#             Energy1.append(float(line.split(': ')[1]))\n",
    "# print(Energy1)"
   ]
  },
  {
   "cell_type": "code",
   "execution_count": null,
   "id": "1def13bc",
   "metadata": {},
   "outputs": [],
   "source": [
    "###To read an Energy contribution from the logfile\n",
    "\n",
    "with open('logfile.txt','r') as f: ###Give the file name here\n",
    "    Energy=[]\n",
    "    string='Total Energy' ### Name it as the which energy term you want \n",
    "    for line in f:\n",
    "        if string in line:\n",
    "            Energy.append(float(line.split(': ')[1]))\n",
    "print(Energy)\n"
   ]
  },
  {
   "cell_type": "code",
   "execution_count": null,
   "id": "5ac038ab",
   "metadata": {},
   "outputs": [],
   "source": [
    "number_of_iterations=np.arange(0,len(Energy+Energy1),1)\n",
    "number_of_iterations=number_of_iterations*100"
   ]
  },
  {
   "cell_type": "code",
   "execution_count": null,
   "id": "805a95b2",
   "metadata": {},
   "outputs": [],
   "source": [
    "###Plotting Energy Contribution with resrpect to number of iterations\n",
    "import matplotlib as mpl\n",
    "mpl.rcParams['figure.dpi']=400\n",
    "plt.plot(number_of_iterations,a,'b.')\n",
    "csfont={'fontname':'Times New Roman'}\n",
    "plt.xlabel('Number of Iterations',**csfont)\n",
    "plt.ylabel('Total Energy of the System',fontsize=12,**csfont)\n",
    "plt.title('Inside_Particle_u=4.0,rp=0.20')"
   ]
  }
 ],
 "metadata": {
  "kernelspec": {
   "display_name": "Python 3 (ipykernel)",
   "language": "python",
   "name": "python3"
  },
  "language_info": {
   "codemirror_mode": {
    "name": "ipython",
    "version": 3
   },
   "file_extension": ".py",
   "mimetype": "text/x-python",
   "name": "python",
   "nbconvert_exporter": "python",
   "pygments_lexer": "ipython3",
   "version": "3.9.12"
  }
 },
 "nbformat": 4,
 "nbformat_minor": 5
}
